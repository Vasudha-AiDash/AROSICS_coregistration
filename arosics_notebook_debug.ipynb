{
 "cells": [
  {
   "cell_type": "code",
   "execution_count": 1,
   "id": "a17c7b6d",
   "metadata": {},
   "outputs": [],
   "source": [
    "##import Packages\n",
    "from arosics import COREG, DESHIFTER\n",
    "import glob\n",
    "import os\n",
    "import sys"
   ]
  },
  {
   "cell_type": "code",
   "execution_count": 2,
   "id": "5429d228",
   "metadata": {},
   "outputs": [],
   "source": [
    "\n",
    "\n",
    "### SETTINGS ###\n",
    "# please add path to reference image\n",
    "REFERENCE = r'reference_image\\reference.tif'\n",
    "\n",
    "INFILE = r'input_images\\target.tif'    \n",
    "\n",
    "outfile = r'output_files\\out.tif'   \n",
    "#logfile = os.path.join(out_dir, os.path.basename(infile)[:-4] + f'.log')\n",
    "\n",
    "\n"
   ]
  },
  {
   "cell_type": "code",
   "execution_count": 3,
   "id": "e10198e9",
   "metadata": {},
   "outputs": [
    {
     "data": {
      "text/plain": [
       "True"
      ]
     },
     "execution_count": 3,
     "metadata": {},
     "output_type": "execute_result"
    }
   ],
   "source": [
    "os.path.exists(REFERENCE)"
   ]
  },
  {
   "cell_type": "code",
   "execution_count": 4,
   "id": "9418d025",
   "metadata": {},
   "outputs": [
    {
     "name": "stdout",
     "output_type": "stream",
     "text": [
      "Calculating footprint polygon and actual data corner coordinates for reference image...\n"
     ]
    },
    {
     "name": "stderr",
     "output_type": "stream",
     "text": [
      "Polygonize progress     |==================================================| 100.0% Complete  => 0:00:01\n"
     ]
    },
    {
     "name": "stdout",
     "output_type": "stream",
     "text": [
      "Bounding box of calculated footprint for reference image:\n",
      "\t(373390.79048666736, 7379778.87643, 375105.3645716978, 7381549.199103333)\n",
      "Calculating footprint polygon and actual data corner coordinates for image to be shifted...\n",
      "Bounding box of calculated footprint for image to be shifted:\n",
      "\t(373971.6613, 7380387.3917, 374547.4818, 7380989.4401)\n",
      "Matching window position (X,Y): 374249.61281411303/7380680.487938761\n"
     ]
    }
   ],
   "source": [
    "# detect and correct global spatial shift \n",
    "CR = COREG(REFERENCE, INFILE,\n",
    "           max_shift=200, path_out=outfile, \n",
    "           fmt_out='GTIFF',\n",
    "           out_crea_options=['COMPRESS=DEFLATE'],\n",
    "           r_b4match=1, \n",
    "           s_b4match=1)"
   ]
  },
  {
   "cell_type": "code",
   "execution_count": 5,
   "id": "a205057b",
   "metadata": {},
   "outputs": [
    {
     "name": "stdout",
     "output_type": "stream",
     "text": [
      "Detected integer shifts (X/Y):                            5/7\n",
      "Detected subpixel shifts (X/Y):                           -0.41069935039215594/0.34250405516513566\n",
      "Calculated total shifts in fft pixel units (X/Y):         4.589300649607844/7.3425040551651355\n",
      "Calculated total shifts in reference pixel units (X/Y):   4.589300649607844/7.3425040551651355\n",
      "Calculated total shifts in target pixel units (X/Y):      4.589300649607844/7.3425040551651355\n",
      "Calculated map shifts (X,Y):\t\t\t\t  0.5513485071132891/-0.8821677947416902\n",
      "Calculated absolute shift vector length in map units:     1.0402909181452413\n",
      "Calculated angle of shift vector in degrees from North:   327.9932946888403\n",
      "Original map info: ['UTM', 1.0, 1.0, 373971.6613, 7380989.4401, 0.12013780513249128, 0.12014536020767692, 4, 'North', 'WGS-84']\n",
      "Updated map info:  ['UTM', 1.0, 1.0, '373972.2126485071', '7380988.5579322055', 0.12013780513249128, 0.12014536020767692, 4, 'North', 'WGS-84']\n",
      "Image similarity within the matching window (SSIM before/after correction): 0.0723 => 0.3333\n",
      "Estimated reliability of the calculated shifts:  69.4 %\n"
     ]
    }
   ],
   "source": [
    "output = CR.calculate_spatial_shifts()"
   ]
  },
  {
   "cell_type": "code",
   "execution_count": 6,
   "id": "5dcbb412",
   "metadata": {},
   "outputs": [
    {
     "name": "stdout",
     "output_type": "stream",
     "text": [
      "Correcting geometric shifts...\n"
     ]
    },
    {
     "name": "stderr",
     "output_type": "stream",
     "text": [
      "Warping progress     |==================================================| 100.0% Complete  => 0:00:03\n"
     ]
    },
    {
     "name": "stdout",
     "output_type": "stream",
     "text": [
      "Writing GeoArray of size (5010, 4792, 4) to output_files\\out.tif.\n"
     ]
    }
   ],
   "source": [
    "if CR.ssim_improved:\n",
    "    CR.correct_shifts()"
   ]
  },
  {
   "cell_type": "markdown",
   "id": "0256553f",
   "metadata": {},
   "source": [
    "#### "
   ]
  }
 ],
 "metadata": {
  "kernelspec": {
   "display_name": "Python 3",
   "language": "python",
   "name": "python3"
  },
  "language_info": {
   "codemirror_mode": {
    "name": "ipython",
    "version": 3
   },
   "file_extension": ".py",
   "mimetype": "text/x-python",
   "name": "python",
   "nbconvert_exporter": "python",
   "pygments_lexer": "ipython3",
   "version": "3.7.10"
  }
 },
 "nbformat": 4,
 "nbformat_minor": 5
}
